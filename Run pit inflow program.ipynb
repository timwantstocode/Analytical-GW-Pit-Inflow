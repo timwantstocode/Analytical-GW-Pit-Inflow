{
  "cells": [
    {
      "cell_type": "markdown",
      "metadata": {
        "slideshow": {
          "slide_type": "fragment"
        }
      },
      "source": [
        "# Pit inflow program (Marinelli & Niccoli, 1998)\n",
        "#### This program simulates pit into a rectangular area. It first calculates an effect (circular) radius of a rectangle (length x width)\n",
        "#### The radius of influence is then calculated (Niccoli et al, 1998)\n",
        "#### Flow into the pit is then calculated (Marinelli and Niccoli, 1998)\n",
        "### The following assumptions apply to this equation\t\t\t\t\t\n",
        "##### - There is no groundwater flow between zones 1 and 2\t\t\t\t\t\n",
        "#### Zone 1\t\t\t\t\t\n",
        "##### - steady-state, unconfined, horizontal radial flow\t\t\t\t\t\n",
        "##### - uniformly distributed recharge at the water table\t\t\t\t\t\n",
        "##### - pit walls are approximated as a right circular cylinder\t\t\t\t\t\n",
        "##### - initial static water table and groundwater flow are both horizontal\t\t\t\t\t\n",
        "##### - groundwater flow to the pit is axially symmetric\t\t\t\t\t\n",
        "#### Zone 2\t\t\t\t\t\n",
        "##### - steady state flow to one side of a circular disk sink of constant and uniform drawdown\t\n",
        "##### - hydraulic head is initially uniform throughout Zone 2. \t\t\t\t\t\n",
        "##### - initial head is equal to the elevation of the initial water table in Zone 1\t\t\t\t\t\n",
        "##### - disk sink has a constant hydraulic head equal to the elevation of the pit lake water surface \t\t\t\t\t\t\t\t\t\t\n",
        "##### - flow to the disk sink is three-dimensional and axially symmetric\t\t\t\t\t\n",
        "##### - materials are anisotropic, prinicipal directions for K are horizontal and vertical\t\t\t\t\t"
      ]
    },
    {
      "cell_type": "code",
      "execution_count": 13,
      "metadata": {
        "scrolled": true,
        "trusted": true
      },
      "outputs": [
        {
          "name": "stdout",
          "output_type": "stream",
          "text": [
            "                                                                             symbol  \\\n",
            "Parameter                                                                             \n",
            "pit width                                                                         a   \n",
            "pit length                                                                        b   \n",
            "distributed recharge                                                              W   \n",
            "zone 1 horizontal K                                                              kh   \n",
            "zone 2 horizontal K                                                             kh2   \n",
            "zone 2 vertical K                                                                kv   \n",
            "Height of seepage face                                          HeightOfSeepageFace   \n",
            "Height of watertable at radius of influence   HeightOfWaterTableAtRadiusOfInfluence   \n",
            "\n",
            "                                                    value units  comment  \n",
            "Parameter                                                                 \n",
            "pit width                                    1.010000e+03     m      NaN  \n",
            "pit length                                   3.230000e+03     m      NaN  \n",
            "distributed recharge                         4.430000e-07   m/d      NaN  \n",
            "zone 1 horizontal K                          2.000000e-02   m/d  minimum  \n",
            "zone 2 horizontal K                          2.000000e-03   m/d      NaN  \n",
            "zone 2 vertical K                            2.000000e-04   m/d      NaN  \n",
            "Height of seepage face                       3.700000e+00  mAHD      NaN  \n",
            "Height of watertable at radius of influence  1.312000e+02  mAHD      NaN  \n",
            "effective radius is:  1019.03 m\n",
            "Anistrophy is  3.16\n",
            "Success - Pit inflow calculated. Results exported to K_0.02Recharge_4.43e-07_pit_inflow_output_2023-01-17 14-50-28.csv\n"
          ]
        },
        {
          "data": {
            "image/png": "[encoded data removed]",
            "text/plain": [
              "<Figure size 432x288 with 1 Axes>"
            ]
          },
          "metadata": {},
          "output_type": "display_data"
        }
      ],
      "source": [
        "run pit_inflow"
      ]
    }
  ],
  "metadata": {
    "interpreter": {
      "hash": "0e2092c8f9f7f316f37f91a11bd7564422990ac18a77b4b948a3dd68f7fe76a0"
    },
    "kernelspec": {
      "display_name": "Python 3.8.8 64-bit ('base': conda)",
      "name": "python3"
    },
    "language_info": {
      "codemirror_mode": {
        "name": "ipython",
        "version": 3
      },
      "file_extension": ".py",
      "mimetype": "text/x-python",
      "name": "python",
      "nbconvert_exporter": "python",
      "pygments_lexer": "ipython3",
      "version": "3.8.8"
    },
    "widgets": {
      "application/vnd.jupyter.widget-state+json": {
        "state": {
          "3087a663d69d4fc0b0935c61274ad17f": {
            "model_module": "@jupyter-widgets/controls",
            "model_module_version": "1.2.0",
            "model_name": "FloatTextModel",
            "state": {
              "_model_module_version": "1.2.0",
              "_view_module_version": "1.2.0",
              "layout": "IPY_MODEL_ad92c1725a8c42e1b2890c87c1049e96",
              "step": null,
              "style": "IPY_MODEL_84274748e70a4a62afb3328d27f1de8b",
              "value": 999
            }
          },
          "36cbd10d364b48e694847c0e0e2f090b": {
            "model_module": "@jupyter-widgets/base",
            "model_module_version": "1.0.0",
            "model_name": "LayoutModel",
            "state": {}
          },
          "84274748e70a4a62afb3328d27f1de8b": {
            "model_module": "@jupyter-widgets/controls",
            "model_module_version": "1.2.0",
            "model_name": "DescriptionStyleModel",
            "state": {
              "_model_module_version": "1.2.0",
              "description_width": ""
            }
          },
          "91a902d22d0d4275a96e3526710312d7": {
            "model_module": "@jupyter-widgets/controls",
            "model_module_version": "1.2.0",
            "model_name": "DescriptionStyleModel",
            "state": {
              "_model_module_version": "1.2.0",
              "description_width": ""
            }
          },
          "a098cd0dc73d45c18bae350a13e562f6": {
            "model_module": "@jupyter-widgets/controls",
            "model_module_version": "1.2.0",
            "model_name": "FloatTextModel",
            "state": {
              "_model_module_version": "1.2.0",
              "_view_module_version": "1.2.0",
              "layout": "IPY_MODEL_36cbd10d364b48e694847c0e0e2f090b",
              "step": null,
              "style": "IPY_MODEL_91a902d22d0d4275a96e3526710312d7",
              "value": 999
            }
          },
          "ad92c1725a8c42e1b2890c87c1049e96": {
            "model_module": "@jupyter-widgets/base",
            "model_module_version": "1.0.0",
            "model_name": "LayoutModel",
            "state": {}
          }
        },
        "version_major": 2,
        "version_minor": 0
      }
    }
  },
  "nbformat": 4,
  "nbformat_minor": 2
}
